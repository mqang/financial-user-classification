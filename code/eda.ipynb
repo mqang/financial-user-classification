{
  "cells": [
    {
      "cell_type": "markdown",
      "metadata": {
        "id": "Z-onI1Bf1C12"
      },
      "source": [
        "# Mô tả tập dữ liệu:\n",
        "Tập dữ liệu lấy từ Kaggle, tập dữ liệu bao gồm các thông tin vay tín dụng của người dùng trong 2 năm (2010, 2011).\n",
        "\n",
        "| **Tên Cột**                              | **Mô tả**                                                                                              | **Kiểu Dữ Liệu** |\n",
        "|------------------------------------------|------------------------------------------------------------------------------------------------------|------------------|\n",
        "| **SeriousDlqin2yrs**                     | Người vay đã trải qua tình trạng chậm thanh toán từ 90 ngày trở lên hoặc tệ hơn.                     | Có/Không         |\n",
        "| **RevolvingUtilizationOfUnsecuredLines** | Tổng dư nợ trên thẻ tín dụng và các khoản tín dụng cá nhân (trừ bất động sản và nợ trả góp) chia cho hạn mức tín dụng. | Phần trăm        |\n",
        "| **age**                                  | Tuổi của người vay (theo năm).                                                                       | Số nguyên        |\n",
        "| **NumberOfTime30-59DaysPastDueNotWorse** | Số lần người vay chậm thanh toán 30-59 ngày nhưng không tệ hơn trong 2 năm qua.                      | Số nguyên        |\n",
        "| **DebtRatio**                            | Tỷ lệ nợ hàng tháng (bao gồm chi phí sinh hoạt, trợ cấp...) chia cho tổng thu nhập hàng tháng.       | Phần trăm        |\n",
        "| **MonthlyIncome**                        | Thu nhập hàng tháng.                                                                                 | Số thực          |\n",
        "| **NumberOfOpenCreditLinesAndLoans**      | Số khoản vay mở (trả góp như vay mua xe hoặc vay thế chấp) và các hạn mức tín dụng (ví dụ: thẻ tín dụng). | Số nguyên        |\n",
        "| **NumberOfTimes90DaysLate**              | Số lần người vay chậm thanh toán 90 ngày hoặc lâu hơn.                                                | Số nguyên        |\n",
        "| **NumberRealEstateLoansOrLines**         | Số khoản vay bất động sản và thế chấp, bao gồm các hạn mức tín dụng liên quan đến nhà ở.              | Số nguyên        |\n",
        "| **NumberOfTime60-89DaysPastDueNotWorse** | Số lần người vay chậm thanh toán 60-89 ngày nhưng không tệ hơn trong 2 năm qua.                      | Số nguyên        |\n",
        "| **NumberOfDependents**                   | Số lượng người phụ thuộc trong gia đình (không bao gồm người vay, ví dụ: vợ/chồng, con cái...).       | Số nguyên        |"
      ]
    },
    {
      "cell_type": "markdown",
      "metadata": {
        "id": "EO8U0s60EpTr"
      },
      "source": [
        "# Import thư viện"
      ]
    },
    {
      "cell_type": "code",
      "execution_count": 1,
      "metadata": {
        "id": "U7yp-ABVEsFS"
      },
      "outputs": [],
      "source": [
        "import pandas as pd\n",
        "import numpy as np\n",
        "import matplotlib.pyplot as plt\n",
        "import seaborn as sns\n",
        "import plotly.express as px\n",
        "%matplotlib inline"
      ]
    },
    {
      "cell_type": "markdown",
      "metadata": {
        "id": "8BqYfZcVEi-X"
      },
      "source": [
        "# Đọc dữ liệu"
      ]
    },
    {
      "cell_type": "code",
      "execution_count": 2,
      "metadata": {
        "colab": {
          "base_uri": "https://localhost:8080/",
          "height": 243
        },
        "id": "GRCwQe5QEnfk",
        "outputId": "4719c579-5497-473b-f407-326f01cd173d"
      },
      "outputs": [
        {
          "data": {
            "text/html": [
              "<div>\n",
              "<style scoped>\n",
              "    .dataframe tbody tr th:only-of-type {\n",
              "        vertical-align: middle;\n",
              "    }\n",
              "\n",
              "    .dataframe tbody tr th {\n",
              "        vertical-align: top;\n",
              "    }\n",
              "\n",
              "    .dataframe thead th {\n",
              "        text-align: right;\n",
              "    }\n",
              "</style>\n",
              "<table border=\"1\" class=\"dataframe\">\n",
              "  <thead>\n",
              "    <tr style=\"text-align: right;\">\n",
              "      <th></th>\n",
              "      <th>Unnamed: 0</th>\n",
              "      <th>SeriousDlqin2yrs</th>\n",
              "      <th>RevolvingUtilizationOfUnsecuredLines</th>\n",
              "      <th>age</th>\n",
              "      <th>NumberOfTime30-59DaysPastDueNotWorse</th>\n",
              "      <th>DebtRatio</th>\n",
              "      <th>MonthlyIncome</th>\n",
              "      <th>NumberOfOpenCreditLinesAndLoans</th>\n",
              "      <th>NumberOfTimes90DaysLate</th>\n",
              "      <th>NumberRealEstateLoansOrLines</th>\n",
              "      <th>NumberOfTime60-89DaysPastDueNotWorse</th>\n",
              "      <th>NumberOfDependents</th>\n",
              "    </tr>\n",
              "  </thead>\n",
              "  <tbody>\n",
              "    <tr>\n",
              "      <th>0</th>\n",
              "      <td>1</td>\n",
              "      <td>1</td>\n",
              "      <td>0.766127</td>\n",
              "      <td>45</td>\n",
              "      <td>2</td>\n",
              "      <td>0.802982</td>\n",
              "      <td>9120.0</td>\n",
              "      <td>13</td>\n",
              "      <td>0</td>\n",
              "      <td>6</td>\n",
              "      <td>0</td>\n",
              "      <td>2.0</td>\n",
              "    </tr>\n",
              "    <tr>\n",
              "      <th>1</th>\n",
              "      <td>2</td>\n",
              "      <td>0</td>\n",
              "      <td>0.957151</td>\n",
              "      <td>40</td>\n",
              "      <td>0</td>\n",
              "      <td>0.121876</td>\n",
              "      <td>2600.0</td>\n",
              "      <td>4</td>\n",
              "      <td>0</td>\n",
              "      <td>0</td>\n",
              "      <td>0</td>\n",
              "      <td>1.0</td>\n",
              "    </tr>\n",
              "    <tr>\n",
              "      <th>2</th>\n",
              "      <td>3</td>\n",
              "      <td>0</td>\n",
              "      <td>0.658180</td>\n",
              "      <td>38</td>\n",
              "      <td>1</td>\n",
              "      <td>0.085113</td>\n",
              "      <td>3042.0</td>\n",
              "      <td>2</td>\n",
              "      <td>1</td>\n",
              "      <td>0</td>\n",
              "      <td>0</td>\n",
              "      <td>0.0</td>\n",
              "    </tr>\n",
              "    <tr>\n",
              "      <th>3</th>\n",
              "      <td>4</td>\n",
              "      <td>0</td>\n",
              "      <td>0.233810</td>\n",
              "      <td>30</td>\n",
              "      <td>0</td>\n",
              "      <td>0.036050</td>\n",
              "      <td>3300.0</td>\n",
              "      <td>5</td>\n",
              "      <td>0</td>\n",
              "      <td>0</td>\n",
              "      <td>0</td>\n",
              "      <td>0.0</td>\n",
              "    </tr>\n",
              "    <tr>\n",
              "      <th>4</th>\n",
              "      <td>5</td>\n",
              "      <td>0</td>\n",
              "      <td>0.907239</td>\n",
              "      <td>49</td>\n",
              "      <td>1</td>\n",
              "      <td>0.024926</td>\n",
              "      <td>63588.0</td>\n",
              "      <td>7</td>\n",
              "      <td>0</td>\n",
              "      <td>1</td>\n",
              "      <td>0</td>\n",
              "      <td>0.0</td>\n",
              "    </tr>\n",
              "  </tbody>\n",
              "</table>\n",
              "</div>"
            ],
            "text/plain": [
              "   Unnamed: 0  SeriousDlqin2yrs  RevolvingUtilizationOfUnsecuredLines  age  \\\n",
              "0           1                 1                              0.766127   45   \n",
              "1           2                 0                              0.957151   40   \n",
              "2           3                 0                              0.658180   38   \n",
              "3           4                 0                              0.233810   30   \n",
              "4           5                 0                              0.907239   49   \n",
              "\n",
              "   NumberOfTime30-59DaysPastDueNotWorse  DebtRatio  MonthlyIncome  \\\n",
              "0                                     2   0.802982         9120.0   \n",
              "1                                     0   0.121876         2600.0   \n",
              "2                                     1   0.085113         3042.0   \n",
              "3                                     0   0.036050         3300.0   \n",
              "4                                     1   0.024926        63588.0   \n",
              "\n",
              "   NumberOfOpenCreditLinesAndLoans  NumberOfTimes90DaysLate  \\\n",
              "0                               13                        0   \n",
              "1                                4                        0   \n",
              "2                                2                        1   \n",
              "3                                5                        0   \n",
              "4                                7                        0   \n",
              "\n",
              "   NumberRealEstateLoansOrLines  NumberOfTime60-89DaysPastDueNotWorse  \\\n",
              "0                             6                                     0   \n",
              "1                             0                                     0   \n",
              "2                             0                                     0   \n",
              "3                             0                                     0   \n",
              "4                             1                                     0   \n",
              "\n",
              "   NumberOfDependents  \n",
              "0                 2.0  \n",
              "1                 1.0  \n",
              "2                 0.0  \n",
              "3                 0.0  \n",
              "4                 0.0  "
            ]
          },
          "execution_count": 2,
          "metadata": {},
          "output_type": "execute_result"
        }
      ],
      "source": [
        "df = pd.read_csv(\"data.csv\")\n",
        "df.head()"
      ]
    },
    {
      "cell_type": "markdown",
      "metadata": {
        "id": "UekrwBNPOFeJ"
      },
      "source": [
        "# Lấy các Columns để phân tích và tính toán"
      ]
    },
    {
      "cell_type": "code",
      "execution_count": 3,
      "metadata": {
        "id": "ta10LJ05OJyj"
      },
      "outputs": [],
      "source": [
        "# Giữ các cột có tên trong danh sách\n",
        "df = df.filter(items=[\n",
        "    \"RevolvingUtilizationOfUnsecuredLines\",\n",
        "    \"DebtRatio\",\n",
        "    \"NumberOfTimes90DaysLate\",\n",
        "    \"age\",\n",
        "    \"SeriousDlqin2yrs\",\n",
        "    \"MonthlyIncome\",\n",
        "    \"NumberOfDependents\"])\n"
      ]
    },
    {
      "cell_type": "markdown",
      "metadata": {
        "id": "OIfkdWfaQXCj"
      },
      "source": [
        "# EDA"
      ]
    },
    {
      "cell_type": "markdown",
      "metadata": {
        "id": "aV2ynS8ewMro"
      },
      "source": [
        "## Kiểm tra tỷ lệ vỡ nợ"
      ]
    },
    {
      "cell_type": "code",
      "execution_count": 4,
      "metadata": {
        "colab": {
          "base_uri": "https://localhost:8080/",
          "height": 467
        },
        "id": "QUGv1s0-v9qK",
        "outputId": "b1a4f562-a51d-4fa0-8a18-83407de56b3c"
      },
      "outputs": [
        {
          "name": "stdout",
          "output_type": "stream",
          "text": [
            "Proportion of People Who Defaulted: 0.06684\n"
          ]
        },
        {
          "data": {
            "image/png": "[encoded data removed]",
            "text/plain": [
              "<Figure size 640x480 with 1 Axes>"
            ]
          },
          "metadata": {},
          "output_type": "display_data"
        }
      ],
      "source": [
        "sns.countplot(x=\"SeriousDlqin2yrs\", data=df)\n",
        "print(\"Proportion of People Who Defaulted: {}\".format(df[\"SeriousDlqin2yrs\"].sum() / len(df)))"
      ]
    },
    {
      "cell_type": "markdown",
      "metadata": {
        "id": "peuqYdHSPa8Z"
      },
      "source": [
        "## Kiểm tra và tính tỉ lệ số lượng giá trị thiếu"
      ]
    },
    {
      "cell_type": "code",
      "execution_count": 5,
      "metadata": {
        "colab": {
          "base_uri": "https://localhost:8080/",
          "height": 269
        },
        "id": "0amTRTdok9VD",
        "outputId": "91c8f496-41ac-4356-ca84-db1f50688856"
      },
      "outputs": [
        {
          "data": {
            "text/html": [
              "<div>\n",
              "<style scoped>\n",
              "    .dataframe tbody tr th:only-of-type {\n",
              "        vertical-align: middle;\n",
              "    }\n",
              "\n",
              "    .dataframe tbody tr th {\n",
              "        vertical-align: top;\n",
              "    }\n",
              "\n",
              "    .dataframe thead th {\n",
              "        text-align: right;\n",
              "    }\n",
              "</style>\n",
              "<table border=\"1\" class=\"dataframe\">\n",
              "  <thead>\n",
              "    <tr style=\"text-align: right;\">\n",
              "      <th></th>\n",
              "      <th>Column</th>\n",
              "      <th>Number of Null Values</th>\n",
              "      <th>Proportion</th>\n",
              "    </tr>\n",
              "  </thead>\n",
              "  <tbody>\n",
              "    <tr>\n",
              "      <th>0</th>\n",
              "      <td>RevolvingUtilizationOfUnsecuredLines</td>\n",
              "      <td>0</td>\n",
              "      <td>0.000000</td>\n",
              "    </tr>\n",
              "    <tr>\n",
              "      <th>1</th>\n",
              "      <td>DebtRatio</td>\n",
              "      <td>0</td>\n",
              "      <td>0.000000</td>\n",
              "    </tr>\n",
              "    <tr>\n",
              "      <th>2</th>\n",
              "      <td>NumberOfTimes90DaysLate</td>\n",
              "      <td>0</td>\n",
              "      <td>0.000000</td>\n",
              "    </tr>\n",
              "    <tr>\n",
              "      <th>3</th>\n",
              "      <td>age</td>\n",
              "      <td>0</td>\n",
              "      <td>0.000000</td>\n",
              "    </tr>\n",
              "    <tr>\n",
              "      <th>4</th>\n",
              "      <td>SeriousDlqin2yrs</td>\n",
              "      <td>0</td>\n",
              "      <td>0.000000</td>\n",
              "    </tr>\n",
              "    <tr>\n",
              "      <th>5</th>\n",
              "      <td>MonthlyIncome</td>\n",
              "      <td>29731</td>\n",
              "      <td>0.198207</td>\n",
              "    </tr>\n",
              "    <tr>\n",
              "      <th>6</th>\n",
              "      <td>NumberOfDependents</td>\n",
              "      <td>3924</td>\n",
              "      <td>0.026160</td>\n",
              "    </tr>\n",
              "  </tbody>\n",
              "</table>\n",
              "</div>"
            ],
            "text/plain": [
              "                                 Column  Number of Null Values  Proportion\n",
              "0  RevolvingUtilizationOfUnsecuredLines                      0    0.000000\n",
              "1                             DebtRatio                      0    0.000000\n",
              "2               NumberOfTimes90DaysLate                      0    0.000000\n",
              "3                                   age                      0    0.000000\n",
              "4                      SeriousDlqin2yrs                      0    0.000000\n",
              "5                         MonthlyIncome                  29731    0.198207\n",
              "6                    NumberOfDependents                   3924    0.026160"
            ]
          },
          "execution_count": 5,
          "metadata": {},
          "output_type": "execute_result"
        }
      ],
      "source": [
        "# Kiểm tra số lượng giá trị thiếu\n",
        "missing_summary = df.isnull().sum()\n",
        "pd.DataFrame({\"Column\": missing_summary.index, \"Number of Null Values\": missing_summary.values,\n",
        "             \"Proportion\": missing_summary.values / len(df) })"
      ]
    },
    {
      "cell_type": "markdown",
      "metadata": {
        "id": "a3cgy6-lHdwo"
      },
      "source": [
        "## DebtRatio"
      ]
    },
    {
      "cell_type": "code",
      "execution_count": 6,
      "metadata": {
        "colab": {
          "base_uri": "https://localhost:8080/",
          "height": 335
        },
        "id": "HE_zV0N8PVKT",
        "outputId": "f6b035b0-16a4-4aad-bdb0-2eae429788fe"
      },
      "outputs": [
        {
          "data": {
            "text/plain": [
              "count    150000.000000\n",
              "mean        353.005076\n",
              "std        2037.818523\n",
              "min           0.000000\n",
              "25%           0.175074\n",
              "50%           0.366508\n",
              "75%           0.868254\n",
              "max      329664.000000\n",
              "Name: DebtRatio, dtype: float64"
            ]
          },
          "execution_count": 6,
          "metadata": {},
          "output_type": "execute_result"
        }
      ],
      "source": [
        "df[\"DebtRatio\"].describe()"
      ]
    },
    {
      "cell_type": "markdown",
      "metadata": {
        "id": "PIEtVsyS0rR1"
      },
      "source": [
        "Sau khi xem xét các giá trị, ta thấy có trường hợp một người nợ gấp gần 330.000 lần so với tài sản họ sở hữu. Điều này là không thực tế, có thể đây là 1 outlier. Bây giờ ta sẽ cần phải đi tìm các giá trị ngoại lai."
      ]
    },
    {
      "cell_type": "code",
      "execution_count": 7,
      "metadata": {
        "colab": {
          "base_uri": "https://localhost:8080/"
        },
        "id": "STR4sPL7PWvt",
        "outputId": "dad5c68a-52eb-4283-868c-fdb8ce058f08"
      },
      "outputs": [
        {
          "data": {
            "text/plain": [
              "3489.024999999994"
            ]
          },
          "execution_count": 7,
          "metadata": {},
          "output_type": "execute_result"
        }
      ],
      "source": [
        "df[\"DebtRatio\"].quantile(0.975)"
      ]
    },
    {
      "cell_type": "markdown",
      "metadata": {
        "id": "717n--rB1n9C"
      },
      "source": [
        "2,5% của tập dữ liệu nợ nhiều hơn 3.500 lần so với tài sản họ sở hữu. Chúng ta cần kiểm tra thêm để xác định liệu đây có phải là các giá trị ngoại lai hay không."
      ]
    },
    {
      "cell_type": "code",
      "execution_count": 8,
      "metadata": {
        "colab": {
          "base_uri": "https://localhost:8080/",
          "height": 300
        },
        "id": "9lWGzScCPX8t",
        "outputId": "a0ebb132-741c-4525-875b-300cbf58e4f0"
      },
      "outputs": [
        {
          "data": {
            "text/html": [
              "<div>\n",
              "<style scoped>\n",
              "    .dataframe tbody tr th:only-of-type {\n",
              "        vertical-align: middle;\n",
              "    }\n",
              "\n",
              "    .dataframe tbody tr th {\n",
              "        vertical-align: top;\n",
              "    }\n",
              "\n",
              "    .dataframe thead th {\n",
              "        text-align: right;\n",
              "    }\n",
              "</style>\n",
              "<table border=\"1\" class=\"dataframe\">\n",
              "  <thead>\n",
              "    <tr style=\"text-align: right;\">\n",
              "      <th></th>\n",
              "      <th>SeriousDlqin2yrs</th>\n",
              "      <th>MonthlyIncome</th>\n",
              "    </tr>\n",
              "  </thead>\n",
              "  <tbody>\n",
              "    <tr>\n",
              "      <th>count</th>\n",
              "      <td>3750.000000</td>\n",
              "      <td>185.000000</td>\n",
              "    </tr>\n",
              "    <tr>\n",
              "      <th>mean</th>\n",
              "      <td>0.064267</td>\n",
              "      <td>0.064865</td>\n",
              "    </tr>\n",
              "    <tr>\n",
              "      <th>std</th>\n",
              "      <td>0.245260</td>\n",
              "      <td>0.246956</td>\n",
              "    </tr>\n",
              "    <tr>\n",
              "      <th>min</th>\n",
              "      <td>0.000000</td>\n",
              "      <td>0.000000</td>\n",
              "    </tr>\n",
              "    <tr>\n",
              "      <th>25%</th>\n",
              "      <td>0.000000</td>\n",
              "      <td>0.000000</td>\n",
              "    </tr>\n",
              "    <tr>\n",
              "      <th>50%</th>\n",
              "      <td>0.000000</td>\n",
              "      <td>0.000000</td>\n",
              "    </tr>\n",
              "    <tr>\n",
              "      <th>75%</th>\n",
              "      <td>0.000000</td>\n",
              "      <td>0.000000</td>\n",
              "    </tr>\n",
              "    <tr>\n",
              "      <th>max</th>\n",
              "      <td>1.000000</td>\n",
              "      <td>1.000000</td>\n",
              "    </tr>\n",
              "  </tbody>\n",
              "</table>\n",
              "</div>"
            ],
            "text/plain": [
              "       SeriousDlqin2yrs  MonthlyIncome\n",
              "count       3750.000000     185.000000\n",
              "mean           0.064267       0.064865\n",
              "std            0.245260       0.246956\n",
              "min            0.000000       0.000000\n",
              "25%            0.000000       0.000000\n",
              "50%            0.000000       0.000000\n",
              "75%            0.000000       0.000000\n",
              "max            1.000000       1.000000"
            ]
          },
          "execution_count": 8,
          "metadata": {},
          "output_type": "execute_result"
        }
      ],
      "source": [
        "df[df['DebtRatio'] > 3489.025][['SeriousDlqin2yrs','MonthlyIncome']].describe()"
      ]
    },
    {
      "cell_type": "markdown",
      "metadata": {
        "id": "rud1WoUI2ukZ"
      },
      "source": [
        "Vấn đề thứ nhất là trong số 3750 bản ghi có DebtRatio > 3500, chỉ có 185 bản ghi có giá trị cho thu nhập hàng tháng. Bên cạnh đó, những người có thu nhập hàng tháng dường như chỉ có thu nhập hàng tháng là 1 hoặc 0. Ta sẽ cần kiểm tra các bản ghi có tỷ lệ vỡ nợ trong 2 năm bằng với thu nhập hàng tháng:"
      ]
    },
    {
      "cell_type": "code",
      "execution_count": 9,
      "metadata": {
        "colab": {
          "base_uri": "https://localhost:8080/"
        },
        "id": "XimlvMZQPaUP",
        "outputId": "0ba93a56-00af-41ab-e728-629383c7c6f9"
      },
      "outputs": [
        {
          "data": {
            "text/plain": [
              "164"
            ]
          },
          "execution_count": 9,
          "metadata": {},
          "output_type": "execute_result"
        }
      ],
      "source": [
        "df[(df['DebtRatio'] > 3489.025) & (df['SeriousDlqin2yrs'] == df['MonthlyIncome'])].shape[0]"
      ]
    },
    {
      "cell_type": "markdown",
      "metadata": {
        "id": "8i4SEMzY9FyY"
      },
      "source": [
        "Trong tổng số 185 bản ghi, 164 bản ghi có cùng giá trị cho tỷ lệ vỡ nợ trong 2 năm và thu nhập hàng tháng, điều này cho thấy có lỗi nhập liệu.\n",
        "\n",
        "Vấn đề thứ hai là mặc dù nợ gấp hàng ngàn lần so với tài sản họ sở hữu mà những người này không vỡ nợ nhiều hơn so với người bình thường. Kết luận là những bản ghi này là lỗi nhập liệu, vì vậy sẽ xóa khỏi tập dữ liệu."
      ]
    },
    {
      "cell_type": "markdown",
      "metadata": {
        "id": "-GTOnrk5HrNT"
      },
      "source": [
        "## NumberOfTimes90DaysLate"
      ]
    },
    {
      "cell_type": "code",
      "execution_count": 10,
      "metadata": {
        "colab": {
          "base_uri": "https://localhost:8080/",
          "height": 711
        },
        "id": "LmrXgYmEKDkW",
        "outputId": "717e2d1d-86a1-4667-e05e-13d64271abed"
      },
      "outputs": [
        {
          "data": {
            "text/plain": [
              "NumberOfTimes90DaysLate\n",
              "0     141662\n",
              "1       5243\n",
              "2       1555\n",
              "3        667\n",
              "4        291\n",
              "5        131\n",
              "6         80\n",
              "7         38\n",
              "8         21\n",
              "9         19\n",
              "10         8\n",
              "11         5\n",
              "12         2\n",
              "13         4\n",
              "14         2\n",
              "15         2\n",
              "17         1\n",
              "96         5\n",
              "98       264\n",
              "Name: count, dtype: int64"
            ]
          },
          "execution_count": 10,
          "metadata": {},
          "output_type": "execute_result"
        }
      ],
      "source": [
        "df[\"NumberOfTimes90DaysLate\"].value_counts().sort_index()"
      ]
    },
    {
      "cell_type": "markdown",
      "metadata": {
        "id": "Y9pRA7YpB0rf"
      },
      "source": [
        "Không có ai trễ hạn từ 17 đến 96 lần, nhưng lại có hàng trăm người trễ hạn 98 lần. Ta sẽ kiểm tra các bản ghi này:"
      ]
    },
    {
      "cell_type": "code",
      "execution_count": 11,
      "metadata": {
        "colab": {
          "base_uri": "https://localhost:8080/",
          "height": 300
        },
        "id": "TDtT-lErKD-u",
        "outputId": "6de9c2b2-9f96-4169-8c60-cc20c5905810"
      },
      "outputs": [
        {
          "data": {
            "text/html": [
              "<div>\n",
              "<style scoped>\n",
              "    .dataframe tbody tr th:only-of-type {\n",
              "        vertical-align: middle;\n",
              "    }\n",
              "\n",
              "    .dataframe tbody tr th {\n",
              "        vertical-align: top;\n",
              "    }\n",
              "\n",
              "    .dataframe thead th {\n",
              "        text-align: right;\n",
              "    }\n",
              "</style>\n",
              "<table border=\"1\" class=\"dataframe\">\n",
              "  <thead>\n",
              "    <tr style=\"text-align: right;\">\n",
              "      <th></th>\n",
              "      <th>SeriousDlqin2yrs</th>\n",
              "      <th>NumberOfTimes90DaysLate</th>\n",
              "    </tr>\n",
              "  </thead>\n",
              "  <tbody>\n",
              "    <tr>\n",
              "      <th>count</th>\n",
              "      <td>269.000000</td>\n",
              "      <td>269.000000</td>\n",
              "    </tr>\n",
              "    <tr>\n",
              "      <th>mean</th>\n",
              "      <td>0.546468</td>\n",
              "      <td>97.962825</td>\n",
              "    </tr>\n",
              "    <tr>\n",
              "      <th>std</th>\n",
              "      <td>0.498764</td>\n",
              "      <td>0.270628</td>\n",
              "    </tr>\n",
              "    <tr>\n",
              "      <th>min</th>\n",
              "      <td>0.000000</td>\n",
              "      <td>96.000000</td>\n",
              "    </tr>\n",
              "    <tr>\n",
              "      <th>25%</th>\n",
              "      <td>0.000000</td>\n",
              "      <td>98.000000</td>\n",
              "    </tr>\n",
              "    <tr>\n",
              "      <th>50%</th>\n",
              "      <td>1.000000</td>\n",
              "      <td>98.000000</td>\n",
              "    </tr>\n",
              "    <tr>\n",
              "      <th>75%</th>\n",
              "      <td>1.000000</td>\n",
              "      <td>98.000000</td>\n",
              "    </tr>\n",
              "    <tr>\n",
              "      <th>max</th>\n",
              "      <td>1.000000</td>\n",
              "      <td>98.000000</td>\n",
              "    </tr>\n",
              "  </tbody>\n",
              "</table>\n",
              "</div>"
            ],
            "text/plain": [
              "       SeriousDlqin2yrs  NumberOfTimes90DaysLate\n",
              "count        269.000000               269.000000\n",
              "mean           0.546468                97.962825\n",
              "std            0.498764                 0.270628\n",
              "min            0.000000                96.000000\n",
              "25%            0.000000                98.000000\n",
              "50%            1.000000                98.000000\n",
              "75%            1.000000                98.000000\n",
              "max            1.000000                98.000000"
            ]
          },
          "execution_count": 11,
          "metadata": {},
          "output_type": "execute_result"
        }
      ],
      "source": [
        "df[df['NumberOfTimes90DaysLate'] > 17][['SeriousDlqin2yrs', 'NumberOfTimes90DaysLate']].describe()"
      ]
    },
    {
      "cell_type": "markdown",
      "metadata": {
        "id": "8-QQgqXbC21T"
      },
      "source": [
        "Khá vô lý khi có 269 người trễ hạn thanh toán trong 90 ngày (hoặc lâu hơn) đến 96 hoặc 98 lần trong khoảng thời gian 2 năm. Nên xem đây là outliers."
      ]
    },
    {
      "cell_type": "markdown",
      "metadata": {
        "id": "htBmexfIHHlN"
      },
      "source": [
        "## RevolvingUtilizationOfUnsecuredLines"
      ]
    },
    {
      "cell_type": "markdown",
      "metadata": {
        "id": "I7PHb9zYGfzN"
      },
      "source": [
        "Tỷ lệ này biểu thị số tiền nợ so với hạn mức tín dụng, vì vậy các giá trị không nên vượt quá 1 quá nhiều. Đầu tiên, chúng ta sẽ xem xét các giá trị gần 1 và đánh giá tỷ lệ vỡ nợ của các giá trị đó. Bắt đầu với khoảng từ 0,9 đến 4,0"
      ]
    },
    {
      "cell_type": "code",
      "execution_count": 12,
      "metadata": {
        "colab": {
          "base_uri": "https://localhost:8080/",
          "height": 335
        },
        "id": "0D-PECOjG2FS",
        "outputId": "bc95adf0-c47e-45f0-a989-ee0e65d144d4"
      },
      "outputs": [
        {
          "data": {
            "text/plain": [
              "count    19805.000000\n",
              "mean         0.225347\n",
              "std          0.417821\n",
              "min          0.000000\n",
              "25%          0.000000\n",
              "50%          0.000000\n",
              "75%          0.000000\n",
              "max          1.000000\n",
              "Name: SeriousDlqin2yrs, dtype: float64"
            ]
          },
          "execution_count": 12,
          "metadata": {},
          "output_type": "execute_result"
        }
      ],
      "source": [
        "df[(df['RevolvingUtilizationOfUnsecuredLines'] > .9) & (df['RevolvingUtilizationOfUnsecuredLines'] <= 4)].SeriousDlqin2yrs.describe()"
      ]
    },
    {
      "cell_type": "markdown",
      "metadata": {
        "id": "fQruW3hHHHZh"
      },
      "source": [
        "19805 người này có tỷ lệ vỡ nợ gần 1/4. Điều này vẫn khả thi trên thực tế. Nhưng vẫn cần xem xét những người có tỷ lệ sử dụng tín dụng quay vòng (RUUL) cao hơn. Ta sẽ kiểm tra khoảng từ 4 đến 10:"
      ]
    },
    {
      "cell_type": "code",
      "execution_count": 13,
      "metadata": {
        "colab": {
          "base_uri": "https://localhost:8080/",
          "height": 335
        },
        "id": "9517CjqmHwxb",
        "outputId": "cd44c68e-bef9-4a57-93d7-1b2f8d71e9a4"
      },
      "outputs": [
        {
          "data": {
            "text/plain": [
              "count    23.000000\n",
              "mean      0.260870\n",
              "std       0.448978\n",
              "min       0.000000\n",
              "25%       0.000000\n",
              "50%       0.000000\n",
              "75%       0.500000\n",
              "max       1.000000\n",
              "Name: SeriousDlqin2yrs, dtype: float64"
            ]
          },
          "execution_count": 13,
          "metadata": {},
          "output_type": "execute_result"
        }
      ],
      "source": [
        "df[(df['RevolvingUtilizationOfUnsecuredLines'] > 4) & (df['RevolvingUtilizationOfUnsecuredLines'] <= 10)].SeriousDlqin2yrs.describe()"
      ]
    },
    {
      "cell_type": "markdown",
      "metadata": {
        "id": "bK4SeLAiH9H8"
      },
      "source": [
        "Chỉ có 23 bản ghi trong khoảng từ 4 -> 10, nhưng họ vẫn có tỷ lệ vỡ nợ cao. Vậy tiếp tục xem xét những người có RUUL > 10:"
      ]
    },
    {
      "cell_type": "code",
      "execution_count": 14,
      "metadata": {
        "colab": {
          "base_uri": "https://localhost:8080/",
          "height": 320
        },
        "id": "xZ5GRKP8IIbq",
        "outputId": "e7c2acb8-a706-47e5-a2d0-f25ef4bad4cd"
      },
      "outputs": [
        {
          "data": {
            "text/html": [
              "<div>\n",
              "<style scoped>\n",
              "    .dataframe tbody tr th:only-of-type {\n",
              "        vertical-align: middle;\n",
              "    }\n",
              "\n",
              "    .dataframe tbody tr th {\n",
              "        vertical-align: top;\n",
              "    }\n",
              "\n",
              "    .dataframe thead th {\n",
              "        text-align: right;\n",
              "    }\n",
              "</style>\n",
              "<table border=\"1\" class=\"dataframe\">\n",
              "  <thead>\n",
              "    <tr style=\"text-align: right;\">\n",
              "      <th></th>\n",
              "      <th>RevolvingUtilizationOfUnsecuredLines</th>\n",
              "      <th>DebtRatio</th>\n",
              "      <th>NumberOfTimes90DaysLate</th>\n",
              "      <th>age</th>\n",
              "      <th>SeriousDlqin2yrs</th>\n",
              "      <th>MonthlyIncome</th>\n",
              "      <th>NumberOfDependents</th>\n",
              "    </tr>\n",
              "  </thead>\n",
              "  <tbody>\n",
              "    <tr>\n",
              "      <th>count</th>\n",
              "      <td>241.000000</td>\n",
              "      <td>241.000000</td>\n",
              "      <td>241.000000</td>\n",
              "      <td>241.000000</td>\n",
              "      <td>241.000000</td>\n",
              "      <td>173.00000</td>\n",
              "      <td>228.000000</td>\n",
              "    </tr>\n",
              "    <tr>\n",
              "      <th>mean</th>\n",
              "      <td>3564.023932</td>\n",
              "      <td>571.918644</td>\n",
              "      <td>0.074689</td>\n",
              "      <td>50.630705</td>\n",
              "      <td>0.070539</td>\n",
              "      <td>8467.67052</td>\n",
              "      <td>0.688596</td>\n",
              "    </tr>\n",
              "    <tr>\n",
              "      <th>std</th>\n",
              "      <td>5123.802683</td>\n",
              "      <td>1772.948412</td>\n",
              "      <td>0.579711</td>\n",
              "      <td>14.565389</td>\n",
              "      <td>0.256587</td>\n",
              "      <td>6564.06825</td>\n",
              "      <td>1.038659</td>\n",
              "    </tr>\n",
              "    <tr>\n",
              "      <th>min</th>\n",
              "      <td>11.385230</td>\n",
              "      <td>0.000800</td>\n",
              "      <td>0.000000</td>\n",
              "      <td>24.000000</td>\n",
              "      <td>0.000000</td>\n",
              "      <td>0.00000</td>\n",
              "      <td>0.000000</td>\n",
              "    </tr>\n",
              "    <tr>\n",
              "      <th>25%</th>\n",
              "      <td>941.000000</td>\n",
              "      <td>0.217813</td>\n",
              "      <td>0.000000</td>\n",
              "      <td>39.000000</td>\n",
              "      <td>0.000000</td>\n",
              "      <td>4500.00000</td>\n",
              "      <td>0.000000</td>\n",
              "    </tr>\n",
              "    <tr>\n",
              "      <th>50%</th>\n",
              "      <td>2012.000000</td>\n",
              "      <td>0.402560</td>\n",
              "      <td>0.000000</td>\n",
              "      <td>48.000000</td>\n",
              "      <td>0.000000</td>\n",
              "      <td>7000.00000</td>\n",
              "      <td>0.000000</td>\n",
              "    </tr>\n",
              "    <tr>\n",
              "      <th>75%</th>\n",
              "      <td>4116.000000</td>\n",
              "      <td>59.000000</td>\n",
              "      <td>0.000000</td>\n",
              "      <td>62.000000</td>\n",
              "      <td>0.000000</td>\n",
              "      <td>10091.00000</td>\n",
              "      <td>1.000000</td>\n",
              "    </tr>\n",
              "    <tr>\n",
              "      <th>max</th>\n",
              "      <td>50708.000000</td>\n",
              "      <td>21395.000000</td>\n",
              "      <td>8.000000</td>\n",
              "      <td>87.000000</td>\n",
              "      <td>1.000000</td>\n",
              "      <td>44472.00000</td>\n",
              "      <td>4.000000</td>\n",
              "    </tr>\n",
              "  </tbody>\n",
              "</table>\n",
              "</div>"
            ],
            "text/plain": [
              "       RevolvingUtilizationOfUnsecuredLines     DebtRatio  \\\n",
              "count                            241.000000    241.000000   \n",
              "mean                            3564.023932    571.918644   \n",
              "std                             5123.802683   1772.948412   \n",
              "min                               11.385230      0.000800   \n",
              "25%                              941.000000      0.217813   \n",
              "50%                             2012.000000      0.402560   \n",
              "75%                             4116.000000     59.000000   \n",
              "max                            50708.000000  21395.000000   \n",
              "\n",
              "       NumberOfTimes90DaysLate         age  SeriousDlqin2yrs  MonthlyIncome  \\\n",
              "count               241.000000  241.000000        241.000000      173.00000   \n",
              "mean                  0.074689   50.630705          0.070539     8467.67052   \n",
              "std                   0.579711   14.565389          0.256587     6564.06825   \n",
              "min                   0.000000   24.000000          0.000000        0.00000   \n",
              "25%                   0.000000   39.000000          0.000000     4500.00000   \n",
              "50%                   0.000000   48.000000          0.000000     7000.00000   \n",
              "75%                   0.000000   62.000000          0.000000    10091.00000   \n",
              "max                   8.000000   87.000000          1.000000    44472.00000   \n",
              "\n",
              "       NumberOfDependents  \n",
              "count          228.000000  \n",
              "mean             0.688596  \n",
              "std              1.038659  \n",
              "min              0.000000  \n",
              "25%              0.000000  \n",
              "50%              0.000000  \n",
              "75%              1.000000  \n",
              "max              4.000000  "
            ]
          },
          "execution_count": 14,
          "metadata": {},
          "output_type": "execute_result"
        }
      ],
      "source": [
        "df[df['RevolvingUtilizationOfUnsecuredLines'] > 10].describe()"
      ]
    },
    {
      "cell_type": "markdown",
      "metadata": {
        "id": "NhoqJNY8IRNU"
      },
      "source": [
        "241 người này không có tỷ lệ vỡ nợ cao hơn so với những người khác khác, mặc dù một số người trong số họ nợ gấp hàng trăm nghìn lần hạn mức tín dụng của mình. Những trường hợp này không nhất quán với phần còn lại của dữ liệu, vì vậy sẽ loại bỏ khỏi tập dữ liệu."
      ]
    },
    {
      "cell_type": "markdown",
      "metadata": {
        "id": "4yW4T8pzHt8K"
      },
      "source": [
        "## age"
      ]
    },
    {
      "cell_type": "code",
      "execution_count": 15,
      "metadata": {
        "colab": {
          "base_uri": "https://localhost:8080/",
          "height": 335
        },
        "id": "Vo56xKMkNnHQ",
        "outputId": "023a63cb-2e32-41ef-e311-948c960e18b5"
      },
      "outputs": [
        {
          "data": {
            "text/plain": [
              "count    150000.000000\n",
              "mean         52.295207\n",
              "std          14.771866\n",
              "min           0.000000\n",
              "25%          41.000000\n",
              "50%          52.000000\n",
              "75%          63.000000\n",
              "max         109.000000\n",
              "Name: age, dtype: float64"
            ]
          },
          "execution_count": 15,
          "metadata": {},
          "output_type": "execute_result"
        }
      ],
      "source": [
        "df[\"age\"].describe()"
      ]
    },
    {
      "cell_type": "code",
      "execution_count": 16,
      "metadata": {
        "colab": {
          "base_uri": "https://localhost:8080/",
          "height": 437
        },
        "id": "w_PeYNIiI02_",
        "outputId": "2e7cff4b-3ce3-4a88-e971-c50cfdd626f2"
      },
      "outputs": [
        {
          "data": {
            "image/png": "[encoded data removed]",
            "text/plain": [
              "<Figure size 1300x500 with 3 Axes>"
            ]
          },
          "metadata": {},
          "output_type": "display_data"
        }
      ],
      "source": [
        "fig, axes = plt.subplots(1, 3, figsize=(13, 5))  # 1 hàng, 3 cột\n",
        "\n",
        "# Đồ thị phân phối tuổi của toàn bộ dữ liệu\n",
        "sns.histplot(df[\"age\"], kde=True, ax=axes[0])\n",
        "axes[0].set_title(\"Age Distribution (All)\")\n",
        "\n",
        "# Đồ thị phân phối tuổi của những người không vỡ nợ\n",
        "sns.histplot(df.loc[df[\"SeriousDlqin2yrs\"] == 0][\"age\"], kde=True, ax=axes[1])\n",
        "axes[1].set_title(\"Age Distribution (No Defaulted)\")\n",
        "\n",
        "# Đồ thị phân phối tuổi của những người vỡ nợ\n",
        "sns.histplot(df.loc[df[\"SeriousDlqin2yrs\"] == 1][\"age\"], kde=True, ax=axes[2])\n",
        "axes[2].set_title(\"Age Distribution (Defaulted)\")\n",
        "\n",
        "plt.tight_layout()\n",
        "plt.show()\n"
      ]
    },
    {
      "cell_type": "markdown",
      "metadata": {
        "id": "HcOjfagkLB-d"
      },
      "source": [
        "Có vẻ như có nhiều người trẻ tuổi vỡ nợ hơn và phân phối nhìn chung là ổn"
      ]
    },
    {
      "cell_type": "markdown",
      "metadata": {
        "id": "zouZ6CdLHyRC"
      },
      "source": [
        "## MonthlyIncome"
      ]
    },
    {
      "cell_type": "code",
      "execution_count": 17,
      "metadata": {
        "colab": {
          "base_uri": "https://localhost:8080/",
          "height": 335
        },
        "id": "fgfLhEhDLMKJ",
        "outputId": "74f13dbb-aac8-4fc7-f50c-bd4304792ed1"
      },
      "outputs": [
        {
          "data": {
            "text/plain": [
              "count    1.202690e+05\n",
              "mean     6.670221e+03\n",
              "std      1.438467e+04\n",
              "min      0.000000e+00\n",
              "25%      3.400000e+03\n",
              "50%      5.400000e+03\n",
              "75%      8.249000e+03\n",
              "max      3.008750e+06\n",
              "Name: MonthlyIncome, dtype: float64"
            ]
          },
          "execution_count": 17,
          "metadata": {},
          "output_type": "execute_result"
        }
      ],
      "source": [
        "df[\"MonthlyIncome\"].describe()"
      ]
    },
    {
      "cell_type": "code",
      "execution_count": 18,
      "metadata": {
        "colab": {
          "base_uri": "https://localhost:8080/",
          "height": 507
        },
        "id": "Ti5tv-fCLNNO",
        "outputId": "d45c71ee-25de-4dc4-8e1a-3e1c776bc671"
      },
      "outputs": [
        {
          "data": {
            "image/png": "[encoded data removed]",
            "text/plain": [
              "<Figure size 1000x500 with 2 Axes>"
            ]
          },
          "metadata": {},
          "output_type": "display_data"
        }
      ],
      "source": [
        "fig, axes = plt.subplots(1, 2, figsize=(10, 5))\n",
        "\n",
        "# Đồ thị phân phối MonthlyIncome (tất cả dữ liệu)\n",
        "sns.histplot(df[\"MonthlyIncome\"].dropna(), kde=True, ax=axes[0])\n",
        "axes[0].set_title(\"Monthly Income Distribution (All)\")\n",
        "\n",
        "# Đồ thị phân phối MonthlyIncome cho nhóm có DebtRatio dưới phân vị 97.5\n",
        "sns.histplot(df.loc[df[\"DebtRatio\"] <= df[\"DebtRatio\"].quantile(0.975)][\"MonthlyIncome\"].dropna(), kde=True, ax=axes[1])\n",
        "axes[1].set_title(\"Monthly Income Distribution (DebtRatio <= 97.5th Percentile)\")\n",
        "\n",
        "plt.tight_layout()\n",
        "plt.show()"
      ]
    },
    {
      "cell_type": "markdown",
      "metadata": {
        "id": "p1K3YtVvMj7D"
      },
      "source": [
        "Phân phối giá trị bị lệch, chúng ta sẽ cần xử lý missing values bằng thuật toán EM"
      ]
    },
    {
      "cell_type": "markdown",
      "metadata": {
        "id": "MN0AMhCjH7Aj"
      },
      "source": [
        "## NumberOfDependents"
      ]
    },
    {
      "cell_type": "markdown",
      "metadata": {
        "id": "Mp9Gctu9N4jL"
      },
      "source": [
        "Thống kê về cột NumberOfDependents"
      ]
    },
    {
      "cell_type": "code",
      "execution_count": 20,
      "metadata": {
        "colab": {
          "base_uri": "https://localhost:8080/",
          "height": 335
        },
        "id": "WLFk5pp0Ny2o",
        "outputId": "a6623ed8-d3ff-4f6b-ff84-f480229c47d3"
      },
      "outputs": [
        {
          "data": {
            "text/plain": [
              "count    146076.000000\n",
              "mean          0.757222\n",
              "std           1.115086\n",
              "min           0.000000\n",
              "25%           0.000000\n",
              "50%           0.000000\n",
              "75%           1.000000\n",
              "max          20.000000\n",
              "Name: NumberOfDependents, dtype: float64"
            ]
          },
          "execution_count": 20,
          "metadata": {},
          "output_type": "execute_result"
        }
      ],
      "source": [
        "df[\"NumberOfDependents\"].describe()"
      ]
    },
    {
      "cell_type": "markdown",
      "metadata": {
        "id": "PnA6b9haOAUk"
      },
      "source": [
        "Đếm số lượng phần tử trong cột NumberOfDependents"
      ]
    },
    {
      "cell_type": "code",
      "execution_count": 21,
      "metadata": {
        "colab": {
          "base_uri": "https://localhost:8080/",
          "height": 523
        },
        "id": "dHy2KS4NM9dO",
        "outputId": "fb7efd65-3b5a-4562-ff7d-b5bed6ec7804"
      },
      "outputs": [
        {
          "data": {
            "text/plain": [
              "NumberOfDependents\n",
              "0.0     86902\n",
              "1.0     26316\n",
              "2.0     19522\n",
              "3.0      9483\n",
              "4.0      2862\n",
              "5.0       746\n",
              "6.0       158\n",
              "7.0        51\n",
              "8.0        24\n",
              "10.0        5\n",
              "9.0         5\n",
              "20.0        1\n",
              "13.0        1\n",
              "Name: count, dtype: int64"
            ]
          },
          "execution_count": 21,
          "metadata": {},
          "output_type": "execute_result"
        }
      ],
      "source": [
        "df[\"NumberOfDependents\"].value_counts()"
      ]
    },
    {
      "cell_type": "markdown",
      "metadata": {
        "id": "1rgaKS-YOSZ4"
      },
      "source": [
        "Thống kê các giá trị <= 10 trong cột NumberOfDependents"
      ]
    },
    {
      "cell_type": "code",
      "execution_count": 22,
      "metadata": {
        "colab": {
          "base_uri": "https://localhost:8080/",
          "height": 335
        },
        "id": "hr1aNaNuNKJg",
        "outputId": "90cadeb1-3965-4bce-dab0-1f5835bf7fbe"
      },
      "outputs": [
        {
          "data": {
            "text/plain": [
              "count    146074.000000\n",
              "mean          0.067411\n",
              "std           0.250733\n",
              "min           0.000000\n",
              "25%           0.000000\n",
              "50%           0.000000\n",
              "75%           0.000000\n",
              "max           1.000000\n",
              "Name: SeriousDlqin2yrs, dtype: float64"
            ]
          },
          "execution_count": 22,
          "metadata": {},
          "output_type": "execute_result"
        }
      ],
      "source": [
        "df.loc[df[\"NumberOfDependents\"] <= 10][\"SeriousDlqin2yrs\"].describe()"
      ]
    },
    {
      "cell_type": "markdown",
      "metadata": {
        "id": "smSUR2_7Orlo"
      },
      "source": [
        "Vẽ biểu đồ cột về phân bố của NumberOfDependents. Trục x thể hiện các giá trị khác nhau, trục y thể hiện số lượng hoặc tần suất của những giá trị đó."
      ]
    },
    {
      "cell_type": "code",
      "execution_count": 23,
      "metadata": {
        "colab": {
          "base_uri": "https://localhost:8080/",
          "height": 467
        },
        "id": "yQnzepTcM-Oi",
        "outputId": "949d33f7-720e-4658-92ff-c06914e51369"
      },
      "outputs": [
        {
          "data": {
            "text/plain": [
              "<Axes: xlabel='NumberOfDependents', ylabel='count'>"
            ]
          },
          "execution_count": 23,
          "metadata": {},
          "output_type": "execute_result"
        },
        {
          "data": {
            "image/png": "[encoded data removed]",
            "text/plain": [
              "<Figure size 640x480 with 1 Axes>"
            ]
          },
          "metadata": {},
          "output_type": "display_data"
        }
      ],
      "source": [
        "sns.countplot(x=\"NumberOfDependents\", data=df.loc[df[\"NumberOfDependents\"] <= 10])"
      ]
    },
    {
      "cell_type": "markdown",
      "metadata": {
        "id": "mFqdDrhuO4Bc"
      },
      "source": [
        "Biểu đồ cho thấy phần lớn các phần tử có giá trị là 0.0, với khoảng 146.000 phần tử. Số lượng phần tử giảm khi giá trị NumberOfDependents tăng lên, với rất ít phần tử có giá trị lớn hơn 6.  Ta sẽ cần xử lý missing values bằng EM."
      ]
    },
    {
      "cell_type": "markdown",
      "metadata": {
        "id": "2CRqyiO0QRKo"
      },
      "source": [
        "# Đề xuất cho tiền xử lý"
      ]
    },
    {
      "cell_type": "markdown",
      "metadata": {
        "id": "FFqlJFyVQqUX"
      },
      "source": [
        "1.   Giữ lại 7 cột dữ liệu:     \"RevolvingUtilizationOfUnsecuredLines\", \"DebtRatio\" \"NumberOfTimes90DaysLate\", \"age\", \"SeriousDlqin2yrs\", \"MonthlyIncome\",  \"NumberOfDependents\"\n",
        "2. Loại bỏ các mẫu có giá trị DebtRatio lớn hơn phân vị 97.5\n",
        "3.   Giữ lại các instances thỏa:\n",
        "*   0<= RevolvingUtilizationOfUnsecuredLines <=10\n",
        "*   NumberOfTimes90DaysLate <= 17\n",
        "4. Xử lý missing values cho cột MonthlyIncome và NumberOfDependents bằng thuật toán EM.\n",
        "\n"
      ]
    }
  ],
  "metadata": {
    "colab": {
      "provenance": []
    },
    "kernelspec": {
      "display_name": "Python 3",
      "name": "python3"
    },
    "language_info": {
      "codemirror_mode": {
        "name": "ipython",
        "version": 3
      },
      "file_extension": ".py",
      "mimetype": "text/x-python",
      "name": "python",
      "nbconvert_exporter": "python",
      "pygments_lexer": "ipython3",
      "version": "3.11.9"
    }
  },
  "nbformat": 4,
  "nbformat_minor": 0
}
